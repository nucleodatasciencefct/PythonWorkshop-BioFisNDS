{
 "cells": [
  {
   "cell_type": "markdown",
   "metadata": {},
   "source": [
    "## OpenCV Challenge"
   ]
  },
  {
   "cell_type": "markdown",
   "metadata": {},
   "source": [
    "![](OpenCV.png)"
   ]
  },
  {
   "cell_type": "markdown",
   "metadata": {},
   "source": [
    "### Its time for you to get some thrill!\n",
    "\n",
    "#### You are given an set of seven different MRI Brain images from seven pacients. Your job its to detect the patient with Parkinson Disease. In order for you to do this, we first need to give some tips."
   ]
  },
  {
   "cell_type": "markdown",
   "metadata": {},
   "source": [
    "The simplest way to tackle the problem would be the comparison of the images. Although, it is required a comparison algorithm in order you to quantify the comparison. We can use, for example, the Structural Similarity Index method. \n",
    "\n",
    "The SSIM method is calculated on various windows of an image. The measure between two images x and y of common size N×N is a SSIM(x,y) function. This metric can be obtain from another library (called scikit-image). The implementation is simple:\n"
   ]
  },
  {
   "cell_type": "code",
   "execution_count": null,
   "metadata": {},
   "outputs": [],
   "source": [
    "from skimage.measure import compare_ssim as ssim"
   ]
  },
  {
   "cell_type": "code",
   "execution_count": null,
   "metadata": {},
   "outputs": [],
   "source": [
    "(score, diff) = ssim(image1, image2, multichannel=True, full=True)\n",
    "diff = (diff * 255).astype(\"uint8\")"
   ]
  },
  {
   "cell_type": "markdown",
   "metadata": {},
   "source": [
    "In the code above, image1 and image2 will be the images to be compared. This quantifys the percentage difference between the different MRI profiles. \n",
    "\n",
    "It is also known that the tipical healthy MRI profile is given by the image \"S1\".jpg\". As a final answer, save the subtraction image between the images you think may indicate the pacient required, and give to the image, as a filename, the SSIM score.\n",
    "\n",
    "We hope that this was an excelent experience for all.\n",
    "\n",
    "\n",
    "### Take this challenge, and be rewarded by this powerfull tool which is Python!"
   ]
  },
  {
   "cell_type": "markdown",
   "metadata": {},
   "source": [
    "![image.png](Py_avatar.png)"
   ]
  }
 ],
 "metadata": {
  "kernelspec": {
   "display_name": "Python 3",
   "language": "python",
   "name": "python3"
  },
  "language_info": {
   "codemirror_mode": {
    "name": "ipython",
    "version": 3
   },
   "file_extension": ".py",
   "mimetype": "text/x-python",
   "name": "python",
   "nbconvert_exporter": "python",
   "pygments_lexer": "ipython3",
   "version": "3.6.8"
  }
 },
 "nbformat": 4,
 "nbformat_minor": 2
}
