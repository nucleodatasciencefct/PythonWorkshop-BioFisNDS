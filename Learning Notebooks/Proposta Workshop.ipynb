{
 "cells": [
  {
   "cell_type": "markdown",
   "metadata": {
    "colab_type": "text",
    "id": "_sratfmIEzhw"
   },
   "source": [
    "# Workshop Python"
   ]
  },
  {
   "cell_type": "markdown",
   "metadata": {
    "colab_type": "text",
    "id": "NGCuFUJOFAkh"
   },
   "source": [
    "# **Descrição:**\n",
    "Este módulo destina-se à introdução de algumas bibliotecas importantes, como *Numpy*, assim como à manipulação de vetores e construção de funções e classes. Como projeto final, pretende-se que o utilizador crie programa que calcule o conjunto de coordenadas de um plano cartesiano que tenha a menor distância euclidiana em relação à origem. "
   ]
  },
  {
   "cell_type": "markdown",
   "metadata": {
    "colab_type": "text",
    "id": "scBYtqf6FsnR"
   },
   "source": [
    "# Numpy - Operações de Base\n",
    "\n",
    "O conjunto de exercícios em baixo pretendem apresentar as vantagens da utilização do pacote Numpy para ciração de arrays e vetores multidimensionais.\n"
   ]
  },
  {
   "cell_type": "markdown",
   "metadata": {
    "colab_type": "text",
    "id": "EQNeSqp6HeHz"
   },
   "source": [
    "1 - Crie um vetor com dois elementos int (à escolha do utilizador)"
   ]
  },
  {
   "cell_type": "code",
   "execution_count": 1,
   "metadata": {
    "colab": {
     "base_uri": "https://localhost:8080/",
     "height": 34
    },
    "colab_type": "code",
    "executionInfo": {
     "elapsed": 903,
     "status": "ok",
     "timestamp": 1555871055080,
     "user": {
      "displayName": "Tiago Martins",
      "photoUrl": "",
      "userId": "15620546063816233998"
     },
     "user_tz": -60
    },
    "id": "Uea0-1kTIArJ",
    "outputId": "6598d81c-084d-4c09-e43c-6e2e9524ef33"
   },
   "outputs": [
    {
     "name": "stdout",
     "output_type": "stream",
     "text": [
      "[1 2]\n"
     ]
    }
   ],
   "source": [
    "import numpy as np\n",
    "\n",
    "vetor = np.array([1, 2])\n",
    "\n",
    "print(vetor)"
   ]
  },
  {
   "cell_type": "markdown",
   "metadata": {
    "colab_type": "text",
    "id": "nCjjBPzHIyvF"
   },
   "source": [
    "2 - Escreva um programa para testar se algum dos elementos de um determinado vetor é diferente de zero."
   ]
  },
  {
   "cell_type": "code",
   "execution_count": 2,
   "metadata": {
    "colab": {
     "base_uri": "https://localhost:8080/",
     "height": 51
    },
    "colab_type": "code",
    "executionInfo": {
     "elapsed": 585,
     "status": "ok",
     "timestamp": 1555871162761,
     "user": {
      "displayName": "Tiago Martins",
      "photoUrl": "",
      "userId": "15620546063816233998"
     },
     "user_tz": -60
    },
    "id": "ygFb-1gII0Bi",
    "outputId": "55c36235-f458-4d52-9da3-3f2a2fb93fa8"
   },
   "outputs": [
    {
     "name": "stdout",
     "output_type": "stream",
     "text": [
      "True\n",
      "False\n"
     ]
    }
   ],
   "source": [
    "print(np.any(vetor))\n",
    "vetor_nulo = np.array([0,0])\n",
    "print(np.any(vetor_nulo))"
   ]
  },
  {
   "cell_type": "markdown",
   "metadata": {
    "colab_type": "text",
    "id": "uzpwrIyHJnzf"
   },
   "source": [
    "3-Escreva programa para criar uma comparação baseada em elementos (maior, maior_equal, menor e menor_equal) de dois vetores."
   ]
  },
  {
   "cell_type": "code",
   "execution_count": 3,
   "metadata": {
    "colab": {
     "base_uri": "https://localhost:8080/",
     "height": 85
    },
    "colab_type": "code",
    "executionInfo": {
     "elapsed": 576,
     "status": "ok",
     "timestamp": 1555871441730,
     "user": {
      "displayName": "Tiago Martins",
      "photoUrl": "",
      "userId": "15620546063816233998"
     },
     "user_tz": -60
    },
    "id": "LKfs5DT_J8zG",
    "outputId": "d4d33e9a-6d2f-4532-e934-370d71062750"
   },
   "outputs": [
    {
     "name": "stdout",
     "output_type": "stream",
     "text": [
      "[ True False]\n",
      "[ True  True]\n",
      "[False False]\n",
      "[False  True]\n"
     ]
    }
   ],
   "source": [
    "vetor1 = np.array([3, 5])\n",
    "vetor2 = np.array([2, 5])\n",
    "\n",
    "\n",
    "print(np.greater(vetor1, vetor2))\n",
    "\n",
    "print(np.greater_equal(vetor1, vetor2))\n",
    "\n",
    "print(np.less(vetor1, vetor2))\n",
    "\n",
    "print(np.less_equal(vetor1, vetor2))"
   ]
  },
  {
   "cell_type": "markdown",
   "metadata": {
    "colab_type": "text",
    "id": "HIaDbZE3KlPI"
   },
   "source": [
    "4 - Escreva um programa NumPy para criar um vetor com valores de 0 a 20 e alterar o sinal dos números no intervalo de 9 a 15."
   ]
  },
  {
   "cell_type": "code",
   "execution_count": 4,
   "metadata": {
    "colab": {
     "base_uri": "https://localhost:8080/",
     "height": 68
    },
    "colab_type": "code",
    "executionInfo": {
     "elapsed": 1373,
     "status": "ok",
     "timestamp": 1555871735530,
     "user": {
      "displayName": "Tiago Martins",
      "photoUrl": "",
      "userId": "15620546063816233998"
     },
     "user_tz": -60
    },
    "id": "UTT7PUU1LUHo",
    "outputId": "fba4087d-f1b9-498d-d9da-b35e81737c98"
   },
   "outputs": [
    {
     "name": "stdout",
     "output_type": "stream",
     "text": [
      "[ 0  1  2  3  4  5  6  7  8  9 10 11 12 13 14 15 16 17 18 19]\n",
      "[  0   1   2   3   4   5   6   7   8  -9 -10 -11 -12 -13 -14 -15  16  17\n",
      "  18  19]\n"
     ]
    }
   ],
   "source": [
    "vetor3 = np.arange(20)\n",
    "print(vetor3)\n",
    "vetor3[(vetor3 >= 9) & (vetor3 <= 15)] *= -1\n",
    "print(vetor3)"
   ]
  },
  {
   "cell_type": "markdown",
   "metadata": {
    "colab_type": "text",
    "id": "rAD_nemYNbGt"
   },
   "source": [
    "5 - Crie um vetor com 10 elementos que estejam contidos no intervalo 0-10"
   ]
  },
  {
   "cell_type": "code",
   "execution_count": 7,
   "metadata": {
    "colab": {
     "base_uri": "https://localhost:8080/",
     "height": 34
    },
    "colab_type": "code",
    "executionInfo": {
     "elapsed": 636,
     "status": "ok",
     "timestamp": 1555872186245,
     "user": {
      "displayName": "Tiago Martins",
      "photoUrl": "",
      "userId": "15620546063816233998"
     },
     "user_tz": -60
    },
    "id": "JfME4XHDNQ53",
    "outputId": "890e11d6-99b6-4def-cde7-5edf3885548a"
   },
   "outputs": [
    {
     "name": "stdout",
     "output_type": "stream",
     "text": [
      "[ 3 33 68 86 66 21 94 38 92 42]\n"
     ]
    }
   ],
   "source": [
    "vetor4 = np.random.randint(100, size=10)\n",
    "print(vetor4)"
   ]
  },
  {
   "cell_type": "markdown",
   "metadata": {
    "colab_type": "text",
    "id": "ur882SVgN8-Q"
   },
   "source": [
    "# Matrizes 2D e 3D\n",
    "\n",
    "Neste módulo apresentam-se alguns exemplo de matipulação de matrizes 2D e 3D."
   ]
  },
  {
   "cell_type": "markdown",
   "metadata": {
    "colab_type": "text",
    "id": "cFbv9U_QO6hY"
   },
   "source": [
    "1 - Escreva um programa NumPy para criar uma matriz 3x3 com valores que variam de 2 a 10."
   ]
  },
  {
   "cell_type": "code",
   "execution_count": 8,
   "metadata": {
    "colab": {
     "base_uri": "https://localhost:8080/",
     "height": 68
    },
    "colab_type": "code",
    "executionInfo": {
     "elapsed": 673,
     "status": "ok",
     "timestamp": 1555872625795,
     "user": {
      "displayName": "Tiago Martins",
      "photoUrl": "",
      "userId": "15620546063816233998"
     },
     "user_tz": -60
    },
    "id": "_Kbgw-gsO8kM",
    "outputId": "eb2f7e92-ba91-4baf-c21b-defe6620d223"
   },
   "outputs": [
    {
     "name": "stdout",
     "output_type": "stream",
     "text": [
      "[[ 2  3  4]\n",
      " [ 5  6  7]\n",
      " [ 8  9 10]]\n"
     ]
    }
   ],
   "source": [
    "matriz =  np.arange(2, 11).reshape(3,3)\n",
    "print(matriz)"
   ]
  },
  {
   "cell_type": "markdown",
   "metadata": {
    "colab_type": "text",
    "id": "lfl8DPZyPUZ3"
   },
   "source": [
    " 2 - Escreva um programa  para criar uma matriz 8x8 e preenchê-lo com um padrão xadrez."
   ]
  },
  {
   "cell_type": "code",
   "execution_count": 9,
   "metadata": {
    "colab": {
     "base_uri": "https://localhost:8080/",
     "height": 153
    },
    "colab_type": "code",
    "executionInfo": {
     "elapsed": 572,
     "status": "ok",
     "timestamp": 1555872744011,
     "user": {
      "displayName": "Tiago Martins",
      "photoUrl": "",
      "userId": "15620546063816233998"
     },
     "user_tz": -60
    },
    "id": "x3Z4Js-6PWAA",
    "outputId": "4dcd33da-a61d-44f4-89f6-98148fe08cca"
   },
   "outputs": [
    {
     "name": "stdout",
     "output_type": "stream",
     "text": [
      "[[0 1 0 1 0 1 0 1]\n",
      " [1 0 1 0 1 0 1 0]\n",
      " [0 1 0 1 0 1 0 1]\n",
      " [1 0 1 0 1 0 1 0]\n",
      " [0 1 0 1 0 1 0 1]\n",
      " [1 0 1 0 1 0 1 0]\n",
      " [0 1 0 1 0 1 0 1]\n",
      " [1 0 1 0 1 0 1 0]]\n"
     ]
    }
   ],
   "source": [
    "x = np.zeros((8,8),dtype=int)\n",
    "x[1::2,::2] = 1\n",
    "x[::2,1::2] = 1\n",
    "print(x)"
   ]
  },
  {
   "cell_type": "markdown",
   "metadata": {
    "colab_type": "text",
    "id": "NeFt5Y87QI-p"
   },
   "source": [
    "3 - Escreva um programa para extrair todos os elementos da primeira e da quarta colunas de uma determinada matriz (4x4)."
   ]
  },
  {
   "cell_type": "code",
   "execution_count": 10,
   "metadata": {
    "colab": {
     "base_uri": "https://localhost:8080/",
     "height": 153
    },
    "colab_type": "code",
    "executionInfo": {
     "elapsed": 640,
     "status": "ok",
     "timestamp": 1555873070032,
     "user": {
      "displayName": "Tiago Martins",
      "photoUrl": "",
      "userId": "15620546063816233998"
     },
     "user_tz": -60
    },
    "id": "VOux5RZbQcEK",
    "outputId": "792eaabd-331e-4bde-b2fe-f56f100b0d2d"
   },
   "outputs": [
    {
     "name": "stdout",
     "output_type": "stream",
     "text": [
      "[[ 0  1  2  3]\n",
      " [ 4  5  6  7]\n",
      " [ 8  9 10 11]\n",
      " [12 13 14 15]]\n",
      "[[ 0  3]\n",
      " [ 4  7]\n",
      " [ 8 11]\n",
      " [12 15]]\n"
     ]
    }
   ],
   "source": [
    "matriz1 = np.arange(0,16).reshape((4, 4))\n",
    "print(matriz1)\n",
    "print(matriz1[:, [0,3]])"
   ]
  },
  {
   "cell_type": "markdown",
   "metadata": {
    "colab_type": "text",
    "id": "1XpZ_AVTROKy"
   },
   "source": [
    "# Operações no Plano Cartesiano\n"
   ]
  },
  {
   "cell_type": "markdown",
   "metadata": {
    "colab_type": "text",
    "id": "Qmj1ThIPTwJ4"
   },
   "source": [
    "1 - Crie um vetor com todas as combinações possíveis de pontos no plano 2D até ao número 10"
   ]
  },
  {
   "cell_type": "code",
   "execution_count": 12,
   "metadata": {
    "colab": {
     "base_uri": "https://localhost:8080/",
     "height": 54
    },
    "colab_type": "code",
    "executionInfo": {
     "elapsed": 604,
     "status": "ok",
     "timestamp": 1555873436473,
     "user": {
      "displayName": "Tiago Martins",
      "photoUrl": "",
      "userId": "15620546063816233998"
     },
     "user_tz": -60
    },
    "id": "PUAlYW5lSAIU",
    "outputId": "30d270e3-68aa-4da7-def3-7e8d469d4b46"
   },
   "outputs": [
    {
     "name": "stdout",
     "output_type": "stream",
     "text": [
      "[(0, 0), (0, 1), (0, 2), (0, 3), (0, 4), (0, 5), (0, 6), (0, 7), (0, 8), (0, 9), (0, 10), (1, 0), (1, 1), (1, 2), (1, 3), (1, 4), (1, 5), (1, 6), (1, 7), (1, 8), (1, 9), (1, 10), (2, 0), (2, 1), (2, 2), (2, 3), (2, 4), (2, 5), (2, 6), (2, 7), (2, 8), (2, 9), (2, 10), (3, 0), (3, 1), (3, 2), (3, 3), (3, 4), (3, 5), (3, 6), (3, 7), (3, 8), (3, 9), (3, 10), (4, 0), (4, 1), (4, 2), (4, 3), (4, 4), (4, 5), (4, 6), (4, 7), (4, 8), (4, 9), (4, 10), (5, 0), (5, 1), (5, 2), (5, 3), (5, 4), (5, 5), (5, 6), (5, 7), (5, 8), (5, 9), (5, 10), (6, 0), (6, 1), (6, 2), (6, 3), (6, 4), (6, 5), (6, 6), (6, 7), (6, 8), (6, 9), (6, 10), (7, 0), (7, 1), (7, 2), (7, 3), (7, 4), (7, 5), (7, 6), (7, 7), (7, 8), (7, 9), (7, 10), (8, 0), (8, 1), (8, 2), (8, 3), (8, 4), (8, 5), (8, 6), (8, 7), (8, 8), (8, 9), (8, 10), (9, 0), (9, 1), (9, 2), (9, 3), (9, 4), (9, 5), (9, 6), (9, 7), (9, 8), (9, 9), (9, 10), (10, 0), (10, 1), (10, 2), (10, 3), (10, 4), (10, 5), (10, 6), (10, 7), (10, 8), (10, 9), (10, 10)]\n"
     ]
    }
   ],
   "source": [
    "coordinates = []\n",
    "\n",
    "for x in range(11):\n",
    "    for y in range(11):\n",
    "        coordinates.append((x, y))\n",
    "print(coordinates)"
   ]
  },
  {
   "cell_type": "markdown",
   "metadata": {
    "colab_type": "text",
    "id": "l1VOcrt8SA2j"
   },
   "source": []
  },
  {
   "cell_type": "markdown",
   "metadata": {
    "colab_type": "text",
    "id": "vluVm3j5UT-W"
   },
   "source": [
    "# Projeto\n",
    "\n",
    "Um aeroporto fornece um conjunto de coordenadas (X,Y) tirados em vários instantes (ficheiros t1.txt, t2.txt, t3.txt), com a localização de 3 drones que estão ao serviço nesse dia e partem, ambos, do mesmo ponto. Um deles encontra-se danificado ( que apresentará, à partida, a menor distância euclideana média ao local de origem). Faça um programa que identifique o drone danificado. Poderá apresentar o resultado como int "
   ]
  },
  {
   "cell_type": "code",
   "execution_count": null,
   "metadata": {
    "colab": {},
    "colab_type": "code",
    "id": "1Ie19j7mW7WP"
   },
   "outputs": [],
   "source": []
  }
 ],
 "metadata": {
  "colab": {
   "collapsed_sections": [],
   "name": "Proposta Workshop.ipynb",
   "provenance": [],
   "version": "0.3.2"
  },
  "kernelspec": {
   "display_name": "Python 3",
   "language": "python",
   "name": "python3"
  },
  "language_info": {
   "codemirror_mode": {
    "name": "ipython",
    "version": 3
   },
   "file_extension": ".py",
   "mimetype": "text/x-python",
   "name": "python",
   "nbconvert_exporter": "python",
   "pygments_lexer": "ipython3",
   "version": "3.6.8"
  }
 },
 "nbformat": 4,
 "nbformat_minor": 2
}
